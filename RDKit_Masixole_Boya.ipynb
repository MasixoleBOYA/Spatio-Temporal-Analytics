{
 "cells": [
  {
   "cell_type": "markdown",
   "metadata": {},
   "source": [
    "# __RDKit Assignment__\n",
    "#### __Name:__ Masixole Boya<br>__Student number:__ 1869204"
   ]
  },
  {
   "cell_type": "markdown",
   "metadata": {},
   "source": [
    "***\n",
    "# __0. Imports__\n",
    "***"
   ]
  },
  {
   "cell_type": "code",
   "execution_count": 6,
   "metadata": {},
   "outputs": [],
   "source": [
    "import numpy as np\n",
    "import matplotlib.pyplot as plt\n",
    "import pandas as pd\n",
    "import os\n",
    "\n",
    "from rdkit import Chem\n",
    "from rdkit.Chem import Draw"
   ]
  },
  {
   "cell_type": "code",
   "execution_count": 3,
   "metadata": {},
   "outputs": [
    {
     "data": {
      "text/plain": [
       "'/home/vmuser'"
      ]
     },
     "execution_count": 3,
     "metadata": {},
     "output_type": "execute_result"
    }
   ],
   "source": [
    "current_path = os.getcwd()\n",
    "current_path"
   ]
  },
  {
   "cell_type": "code",
   "execution_count": 5,
   "metadata": {},
   "outputs": [],
   "source": [
    "df = pd.read_csv(current_path+\"/solubility.csv\")"
   ]
  },
  {
   "cell_type": "code",
   "execution_count": 8,
   "metadata": {},
   "outputs": [
    {
     "data": {
      "text/html": [
       "<div>\n",
       "<style scoped>\n",
       "    .dataframe tbody tr th:only-of-type {\n",
       "        vertical-align: middle;\n",
       "    }\n",
       "\n",
       "    .dataframe tbody tr th {\n",
       "        vertical-align: top;\n",
       "    }\n",
       "\n",
       "    .dataframe thead th {\n",
       "        text-align: right;\n",
       "    }\n",
       "</style>\n",
       "<table border=\"1\" class=\"dataframe\">\n",
       "  <thead>\n",
       "    <tr style=\"text-align: right;\">\n",
       "      <th></th>\n",
       "      <th>Compound ID</th>\n",
       "      <th>Minimum Degree</th>\n",
       "      <th>Molecular Weight</th>\n",
       "      <th>Number of H-Bond Donors</th>\n",
       "      <th>Number of Rings</th>\n",
       "      <th>Number of Rotatable Bonds</th>\n",
       "      <th>Polar Surface Area</th>\n",
       "      <th>measured log solubility in mols per litre</th>\n",
       "      <th>smiles</th>\n",
       "    </tr>\n",
       "  </thead>\n",
       "  <tbody>\n",
       "    <tr>\n",
       "      <th>259</th>\n",
       "      <td>7,12-Dimethylbenz(a)anthracene</td>\n",
       "      <td>1</td>\n",
       "      <td>256.348</td>\n",
       "      <td>0</td>\n",
       "      <td>4</td>\n",
       "      <td>0</td>\n",
       "      <td>0.00</td>\n",
       "      <td>-7.02</td>\n",
       "      <td>Cc1c2ccccc2c(C)c3ccc4ccccc4c13</td>\n",
       "    </tr>\n",
       "    <tr>\n",
       "      <th>266</th>\n",
       "      <td>triamcinolone diacetate</td>\n",
       "      <td>1</td>\n",
       "      <td>478.513</td>\n",
       "      <td>2</td>\n",
       "      <td>4</td>\n",
       "      <td>4</td>\n",
       "      <td>127.20</td>\n",
       "      <td>-4.13</td>\n",
       "      <td>CC(=O)OCC(=O)C3(O)C(CC4C2CCC1=CC(=O)C=CC1(C)C2...</td>\n",
       "    </tr>\n",
       "    <tr>\n",
       "      <th>25</th>\n",
       "      <td>1-Heptanol</td>\n",
       "      <td>1</td>\n",
       "      <td>116.204</td>\n",
       "      <td>1</td>\n",
       "      <td>0</td>\n",
       "      <td>5</td>\n",
       "      <td>20.23</td>\n",
       "      <td>-1.81</td>\n",
       "      <td>CCCCCCCO</td>\n",
       "    </tr>\n",
       "    <tr>\n",
       "      <th>852</th>\n",
       "      <td>uric acid</td>\n",
       "      <td>1</td>\n",
       "      <td>168.112</td>\n",
       "      <td>4</td>\n",
       "      <td>2</td>\n",
       "      <td>0</td>\n",
       "      <td>114.37</td>\n",
       "      <td>-3.93</td>\n",
       "      <td>O=c2[nH]c(=O)c1[nH]c(=O)[nH]c1[nH]2</td>\n",
       "    </tr>\n",
       "    <tr>\n",
       "      <th>335</th>\n",
       "      <td>2,4-Dimethylpentane</td>\n",
       "      <td>1</td>\n",
       "      <td>100.205</td>\n",
       "      <td>0</td>\n",
       "      <td>0</td>\n",
       "      <td>2</td>\n",
       "      <td>0.00</td>\n",
       "      <td>-4.26</td>\n",
       "      <td>CC(C)CC(C)C</td>\n",
       "    </tr>\n",
       "  </tbody>\n",
       "</table>\n",
       "</div>"
      ],
      "text/plain": [
       "                        Compound ID  Minimum Degree  Molecular Weight  \\\n",
       "259  7,12-Dimethylbenz(a)anthracene               1           256.348   \n",
       "266         triamcinolone diacetate               1           478.513   \n",
       "25                       1-Heptanol               1           116.204   \n",
       "852                       uric acid               1           168.112   \n",
       "335             2,4-Dimethylpentane               1           100.205   \n",
       "\n",
       "     Number of H-Bond Donors  Number of Rings  Number of Rotatable Bonds  \\\n",
       "259                        0                4                          0   \n",
       "266                        2                4                          4   \n",
       "25                         1                0                          5   \n",
       "852                        4                2                          0   \n",
       "335                        0                0                          2   \n",
       "\n",
       "     Polar Surface Area  measured log solubility in mols per litre  \\\n",
       "259                0.00                                      -7.02   \n",
       "266              127.20                                      -4.13   \n",
       "25                20.23                                      -1.81   \n",
       "852              114.37                                      -3.93   \n",
       "335                0.00                                      -4.26   \n",
       "\n",
       "                                                smiles  \n",
       "259                     Cc1c2ccccc2c(C)c3ccc4ccccc4c13  \n",
       "266  CC(=O)OCC(=O)C3(O)C(CC4C2CCC1=CC(=O)C=CC1(C)C2...  \n",
       "25                                            CCCCCCCO  \n",
       "852               O=c2[nH]c(=O)c1[nH]c(=O)[nH]c1[nH]2   \n",
       "335                                        CC(C)CC(C)C  "
      ]
     },
     "execution_count": 8,
     "metadata": {},
     "output_type": "execute_result"
    }
   ],
   "source": [
    "df.sample(5)"
   ]
  },
  {
   "cell_type": "markdown",
   "metadata": {},
   "source": [
    "***\n",
    "# __1. Creating RDKit Molecules__\n",
    "***"
   ]
  },
  {
   "cell_type": "code",
   "execution_count": 11,
   "metadata": {},
   "outputs": [
    {
     "data": {
      "image/png": "[encoded data removed]",
      "text/plain": [
       "<rdkit.Chem.rdchem.Mol at 0x7f7ec9cdb300>"
      ]
     },
     "execution_count": 11,
     "metadata": {},
     "output_type": "execute_result"
    }
   ],
   "source": [
    "smiles = \" CCCCCCCO \" # Replace with your SMILES notation\n",
    "mol = Chem . MolFromSmiles ( smiles )"
   ]
  },
  {
   "cell_type": "code",
   "execution_count": null,
   "metadata": {},
   "outputs": [],
   "source": [
    "Propane = \"CCC\" \n",
    "Ethene = \"C=C\"\n",
    "Clyclohexane = \"C1CCCCC1\"\n",
    "Buckminsterfullerene = \"C12=C3C4=C5C6=C1C7=C8C9=C1C%10=C%11C(=C29)C3=C2C3=C4C4=C5C5=C9C6=C7C6=C7C8=C1C1=C8C%10=C%10C%11=C2C2=C3C3=C4C4=C5C5=C%11C%12=C(C6=C95)C7=C1C1=C%12C5=C%11C4=C3C3=C5C(=C81)C%10=C23 \""
   ]
  },
  {
   "cell_type": "markdown",
   "metadata": {},
   "source": [
    "***\n",
    "# __2. Number of Atoms__\n",
    "***"
   ]
  },
  {
   "cell_type": "code",
   "execution_count": null,
   "metadata": {},
   "outputs": [],
   "source": [
    "atomic_count  = Chem.Descriptors."
   ]
  },
  {
   "cell_type": "code",
   "execution_count": 24,
   "metadata": {},
   "outputs": [
    {
     "data": {
      "text/plain": [
       "8"
      ]
     },
     "execution_count": 24,
     "metadata": {},
     "output_type": "execute_result"
    }
   ],
   "source": [
    "mol.GetNumAtoms()\n"
   ]
  },
  {
   "cell_type": "code",
   "execution_count": 25,
   "metadata": {},
   "outputs": [
    {
     "ename": "AttributeError",
     "evalue": "'Atom' object has no attribute 'GetNumAtoms'",
     "output_type": "error",
     "traceback": [
      "\u001b[0;31m---------------------------------------------------------------------------\u001b[0m",
      "\u001b[0;31mAttributeError\u001b[0m                            Traceback (most recent call last)",
      "\u001b[1;32m/home/vmuser/RDKit_Masixole_Boya.ipynb Cell 12\u001b[0m line \u001b[0;36m2\n\u001b[1;32m      <a href='vscode-notebook-cell:/home/vmuser/RDKit_Masixole_Boya.ipynb#X22sZmlsZQ%3D%3D?line=0'>1</a>\u001b[0m \u001b[39mfor\u001b[39;00m i \u001b[39min\u001b[39;00m mol\u001b[39m.\u001b[39mGetAtoms():\n\u001b[0;32m----> <a href='vscode-notebook-cell:/home/vmuser/RDKit_Masixole_Boya.ipynb#X22sZmlsZQ%3D%3D?line=1'>2</a>\u001b[0m     \u001b[39mprint\u001b[39m(i\u001b[39m.\u001b[39;49mGetNumAtoms())\n",
      "\u001b[0;31mAttributeError\u001b[0m: 'Atom' object has no attribute 'GetNumAtoms'"
     ]
    }
   ],
   "source": [
    "for i in mol.GetAtoms():\n",
    "    print(i.GetNumAtoms())"
   ]
  },
  {
   "cell_type": "markdown",
   "metadata": {},
   "source": [
    "***\n",
    "# __3. Chemical symbol and Atomic weight__\n",
    "***"
   ]
  },
  {
   "cell_type": "markdown",
   "metadata": {},
   "source": [
    "***\n",
    "# __4. Aromatic bonds__\n",
    "***"
   ]
  },
  {
   "cell_type": "markdown",
   "metadata": {},
   "source": [
    "***\n",
    "# __5. Drawing the molecules__\n",
    "***"
   ]
  },
  {
   "cell_type": "code",
   "execution_count": 10,
   "metadata": {},
   "outputs": [
    {
     "data": {
      "image/png": "[encoded data removed]",
      "text/plain": [
       "<PIL.PngImagePlugin.PngImageFile image mode=RGB size=300x300>"
      ]
     },
     "execution_count": 10,
     "metadata": {},
     "output_type": "execute_result"
    }
   ],
   "source": [
    "Draw . MolToImage ( mol )"
   ]
  },
  {
   "cell_type": "markdown",
   "metadata": {},
   "source": []
  }
 ],
 "metadata": {
  "kernelspec": {
   "display_name": "Python 3",
   "language": "python",
   "name": "python3"
  },
  "language_info": {
   "codemirror_mode": {
    "name": "ipython",
    "version": 3
   },
   "file_extension": ".py",
   "mimetype": "text/x-python",
   "name": "python",
   "nbconvert_exporter": "python",
   "pygments_lexer": "ipython3",
   "version": "3.10.9"
  }
 },
 "nbformat": 4,
 "nbformat_minor": 2
}
